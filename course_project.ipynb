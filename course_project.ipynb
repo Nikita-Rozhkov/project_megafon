{
 "cells": [
  {
   "cell_type": "markdown",
   "metadata": {},
   "source": [
    "# **Курсовая работа**"
   ]
  },
  {
   "cell_type": "markdown",
   "metadata": {},
   "source": [
    "# **Определение вероятности подключения услуги**"
   ]
  },
  {
   "cell_type": "markdown",
   "metadata": {},
   "source": [
    "## **Импорт библиотек**"
   ]
  },
  {
   "cell_type": "code",
   "execution_count": 4,
   "metadata": {
    "_cell_guid": "b1076dfc-b9ad-4769-8c92-a6c4dae69d19",
    "_uuid": "8f2839f25d086af736a60e9eeb907d3b93b6e0e5",
    "execution": {
     "iopub.execute_input": "2021-07-25T09:30:08.036382Z",
     "iopub.status.busy": "2021-07-25T09:30:08.036071Z",
     "iopub.status.idle": "2021-07-25T09:30:10.247567Z",
     "shell.execute_reply": "2021-07-25T09:30:10.246327Z",
     "shell.execute_reply.started": "2021-07-25T09:30:08.036350Z"
    }
   },
   "outputs": [],
   "source": [
    "import os\n",
    "import dill\n",
    "import pandas as pd\n",
    "import numpy as np\n",
    "import dask.dataframe as dd\n",
    "\n",
    "from sklearn.ensemble import GradientBoostingClassifier, RandomForestClassifier\n",
    "from sklearn.pipeline import Pipeline, FeatureUnion, make_pipeline\n",
    "from sklearn.base import BaseEstimator, TransformerMixin\n",
    "from sklearn.model_selection import RandomizedSearchCV, train_test_split\n",
    "from sklearn.preprocessing import OneHotEncoder, StandardScaler\n",
    "from sklearn.metrics import classification_report, plot_confusion_matrix, precision_recall_curve, roc_curve, auc\n",
    "from sklearn.feature_selection import SelectFromModel\n",
    "from sklearn.linear_model import LogisticRegression, SGDClassifier\n",
    "\n",
    "import matplotlib.pyplot as plt"
   ]
  },
  {
   "cell_type": "markdown",
   "metadata": {},
   "source": [
    "Пути к файлам"
   ]
  },
  {
   "cell_type": "code",
   "execution_count": 5,
   "metadata": {
    "execution": {
     "iopub.execute_input": "2021-07-25T09:30:10.249911Z",
     "iopub.status.busy": "2021-07-25T09:30:10.249577Z",
     "iopub.status.idle": "2021-07-25T09:30:10.254759Z",
     "shell.execute_reply": "2021-07-25T09:30:10.253310Z",
     "shell.execute_reply.started": "2021-07-25T09:30:10.249882Z"
    }
   },
   "outputs": [],
   "source": [
    "PATH_TRAIN = './load/data_train.csv'\n",
    "PATH_TEST = './load/data_test.csv'\n",
    "PATH_FEATURES = './load/features.csv'"
   ]
  },
  {
   "cell_type": "markdown",
   "metadata": {},
   "source": [
    "## **Загрузка и подготовка данных**"
   ]
  },
  {
   "cell_type": "markdown",
   "metadata": {},
   "source": [
    "### Выделение признаков из датасета features для пользователей, которые есть в data_train/data_test"
   ]
  },
  {
   "cell_type": "markdown",
   "metadata": {},
   "source": [
    "Загрузка файлов"
   ]
  },
  {
   "cell_type": "code",
   "execution_count": 6,
   "metadata": {
    "execution": {
     "iopub.execute_input": "2021-07-25T09:30:10.256685Z",
     "iopub.status.busy": "2021-07-25T09:30:10.256380Z",
     "iopub.status.idle": "2021-07-25T09:30:11.305566Z",
     "shell.execute_reply": "2021-07-25T09:30:11.304397Z",
     "shell.execute_reply.started": "2021-07-25T09:30:10.256656Z"
    }
   },
   "outputs": [],
   "source": [
    "df_train = pd.read_csv(PATH_TRAIN)\n",
    "df_test = pd.read_csv(PATH_TEST)"
   ]
  },
  {
   "cell_type": "code",
   "execution_count": 7,
   "metadata": {
    "execution": {
     "iopub.execute_input": "2021-07-25T09:30:11.307313Z",
     "iopub.status.busy": "2021-07-25T09:30:11.306958Z",
     "iopub.status.idle": "2021-07-25T09:34:29.806610Z",
     "shell.execute_reply": "2021-07-25T09:34:29.805100Z",
     "shell.execute_reply.started": "2021-07-25T09:30:11.307280Z"
    }
   },
   "outputs": [
    {
     "data": {
      "text/html": [
       "<div>\n",
       "<style scoped>\n",
       "    .dataframe tbody tr th:only-of-type {\n",
       "        vertical-align: middle;\n",
       "    }\n",
       "\n",
       "    .dataframe tbody tr th {\n",
       "        vertical-align: top;\n",
       "    }\n",
       "\n",
       "    .dataframe thead th {\n",
       "        text-align: right;\n",
       "    }\n",
       "</style>\n",
       "<table border=\"1\" class=\"dataframe\">\n",
       "  <thead>\n",
       "    <tr style=\"text-align: right;\">\n",
       "      <th></th>\n",
       "      <th>id</th>\n",
       "      <th>buy_time</th>\n",
       "      <th>0</th>\n",
       "      <th>1</th>\n",
       "      <th>2</th>\n",
       "      <th>3</th>\n",
       "      <th>4</th>\n",
       "      <th>5</th>\n",
       "      <th>6</th>\n",
       "      <th>7</th>\n",
       "      <th>...</th>\n",
       "      <th>243</th>\n",
       "      <th>244</th>\n",
       "      <th>245</th>\n",
       "      <th>246</th>\n",
       "      <th>247</th>\n",
       "      <th>248</th>\n",
       "      <th>249</th>\n",
       "      <th>250</th>\n",
       "      <th>251</th>\n",
       "      <th>252</th>\n",
       "    </tr>\n",
       "  </thead>\n",
       "  <tbody>\n",
       "    <tr>\n",
       "      <th>13</th>\n",
       "      <td>2046132</td>\n",
       "      <td>1534712400</td>\n",
       "      <td>300.820029</td>\n",
       "      <td>1599.480888</td>\n",
       "      <td>286.879214</td>\n",
       "      <td>1585.013202</td>\n",
       "      <td>281.461754</td>\n",
       "      <td>1563.90821</td>\n",
       "      <td>-16.08618</td>\n",
       "      <td>654.013903</td>\n",
       "      <td>...</td>\n",
       "      <td>-977.373846</td>\n",
       "      <td>-613.770792</td>\n",
       "      <td>-25.996269</td>\n",
       "      <td>-35.630448</td>\n",
       "      <td>-295.747724</td>\n",
       "      <td>-17.832889</td>\n",
       "      <td>-0.694428</td>\n",
       "      <td>-4.175933</td>\n",
       "      <td>-0.45614</td>\n",
       "      <td>0.0</td>\n",
       "    </tr>\n",
       "    <tr>\n",
       "      <th>16</th>\n",
       "      <td>2050810</td>\n",
       "      <td>1540760400</td>\n",
       "      <td>-86.209971</td>\n",
       "      <td>91.820888</td>\n",
       "      <td>-84.480786</td>\n",
       "      <td>110.333202</td>\n",
       "      <td>-89.898246</td>\n",
       "      <td>89.22821</td>\n",
       "      <td>-16.08618</td>\n",
       "      <td>-65.076097</td>\n",
       "      <td>...</td>\n",
       "      <td>-977.373846</td>\n",
       "      <td>-613.770792</td>\n",
       "      <td>-23.996269</td>\n",
       "      <td>190.369552</td>\n",
       "      <td>-286.747724</td>\n",
       "      <td>-25.832889</td>\n",
       "      <td>-0.694428</td>\n",
       "      <td>-12.175933</td>\n",
       "      <td>-0.45614</td>\n",
       "      <td>0.0</td>\n",
       "    </tr>\n",
       "  </tbody>\n",
       "</table>\n",
       "<p>2 rows × 255 columns</p>\n",
       "</div>"
      ],
      "text/plain": [
       "         id    buy_time           0            1           2            3  \\\n",
       "13  2046132  1534712400  300.820029  1599.480888  286.879214  1585.013202   \n",
       "16  2050810  1540760400  -86.209971    91.820888  -84.480786   110.333202   \n",
       "\n",
       "             4           5         6           7  ...         243         244  \\\n",
       "13  281.461754  1563.90821 -16.08618  654.013903  ... -977.373846 -613.770792   \n",
       "16  -89.898246    89.22821 -16.08618  -65.076097  ... -977.373846 -613.770792   \n",
       "\n",
       "          245         246         247        248       249        250  \\\n",
       "13 -25.996269  -35.630448 -295.747724 -17.832889 -0.694428  -4.175933   \n",
       "16 -23.996269  190.369552 -286.747724 -25.832889 -0.694428 -12.175933   \n",
       "\n",
       "        251  252  \n",
       "13 -0.45614  0.0  \n",
       "16 -0.45614  0.0  \n",
       "\n",
       "[2 rows x 255 columns]"
      ]
     },
     "execution_count": 7,
     "metadata": {},
     "output_type": "execute_result"
    }
   ],
   "source": [
    "df_features = dd.read_csv(PATH_FEATURES, sep='\\t')\n",
    "\n",
    "common_users = pd.concat([df_train, df_test]).id.unique()\n",
    "df_features = df_features[df_features.id.isin(common_users)].compute()\n",
    "del common_users\n",
    "\n",
    "df_features.drop('Unnamed: 0', axis=1, inplace=True)\n",
    "df_features.head(2)"
   ]
  },
  {
   "cell_type": "markdown",
   "metadata": {},
   "source": [
    "### Объединение features с data_train/data_test"
   ]
  },
  {
   "cell_type": "markdown",
   "metadata": {},
   "source": [
    "Функция для объединения датасетов"
   ]
  },
  {
   "cell_type": "code",
   "execution_count": 8,
   "metadata": {
    "execution": {
     "iopub.execute_input": "2021-07-25T09:34:29.810050Z",
     "iopub.status.busy": "2021-07-25T09:34:29.809533Z",
     "iopub.status.idle": "2021-07-25T09:34:29.819755Z",
     "shell.execute_reply": "2021-07-25T09:34:29.817566Z",
     "shell.execute_reply.started": "2021-07-25T09:34:29.809998Z"
    }
   },
   "outputs": [],
   "source": [
    "def transform(df: pd.DataFrame, df_features: pd.DataFrame, isTrain: bool) -> pd.DataFrame:\n",
    "    print(f\"Размер датасета перед преобразованием: {df.shape}\")\n",
    "    \n",
    "    df = pd.merge(df, df_features, how='left', on='id')\n",
    "    \n",
    "    \n",
    "    if isTrain:\n",
    "        df = df[abs(df.buy_time_x - df.buy_time_y) > 172800]\n",
    "    \n",
    "    df.drop(['Unnamed: 0', 'buy_time_y'], axis=1, inplace=True)\n",
    "    df.rename(columns={\"buy_time_x\": \"buy_time\"}, inplace=True)\n",
    "    \n",
    "    print(f\"Размер датасета после преобразования: {df.shape}\")\n",
    "    return df"
   ]
  },
  {
   "cell_type": "markdown",
   "metadata": {},
   "source": [
    "Группировка данных по id пользователя"
   ]
  },
  {
   "cell_type": "code",
   "execution_count": 9,
   "metadata": {
    "execution": {
     "iopub.execute_input": "2021-07-25T09:34:29.822371Z",
     "iopub.status.busy": "2021-07-25T09:34:29.821879Z",
     "iopub.status.idle": "2021-07-25T09:34:47.561091Z",
     "shell.execute_reply": "2021-07-25T09:34:47.559864Z",
     "shell.execute_reply.started": "2021-07-25T09:34:29.822332Z"
    }
   },
   "outputs": [],
   "source": [
    "df_features_groupby = df_features.groupby('id').first()"
   ]
  },
  {
   "cell_type": "markdown",
   "metadata": {},
   "source": [
    "Тренировочный датасет после объединения с features"
   ]
  },
  {
   "cell_type": "code",
   "execution_count": 10,
   "metadata": {
    "execution": {
     "iopub.execute_input": "2021-07-25T09:34:47.564249Z",
     "iopub.status.busy": "2021-07-25T09:34:47.563911Z",
     "iopub.status.idle": "2021-07-25T09:34:53.787355Z",
     "shell.execute_reply": "2021-07-25T09:34:53.786384Z",
     "shell.execute_reply.started": "2021-07-25T09:34:47.564204Z"
    }
   },
   "outputs": [
    {
     "name": "stdout",
     "output_type": "stream",
     "text": [
      "Размер датасета перед преобразованием: (831653, 5)\n",
      "Размер датасета после преобразования: (793804, 257)\n"
     ]
    },
    {
     "data": {
      "text/html": [
       "<div>\n",
       "<style scoped>\n",
       "    .dataframe tbody tr th:only-of-type {\n",
       "        vertical-align: middle;\n",
       "    }\n",
       "\n",
       "    .dataframe tbody tr th {\n",
       "        vertical-align: top;\n",
       "    }\n",
       "\n",
       "    .dataframe thead th {\n",
       "        text-align: right;\n",
       "    }\n",
       "</style>\n",
       "<table border=\"1\" class=\"dataframe\">\n",
       "  <thead>\n",
       "    <tr style=\"text-align: right;\">\n",
       "      <th></th>\n",
       "      <th>id</th>\n",
       "      <th>vas_id</th>\n",
       "      <th>buy_time</th>\n",
       "      <th>target</th>\n",
       "      <th>0</th>\n",
       "      <th>1</th>\n",
       "      <th>2</th>\n",
       "      <th>3</th>\n",
       "      <th>4</th>\n",
       "      <th>5</th>\n",
       "      <th>...</th>\n",
       "      <th>243</th>\n",
       "      <th>244</th>\n",
       "      <th>245</th>\n",
       "      <th>246</th>\n",
       "      <th>247</th>\n",
       "      <th>248</th>\n",
       "      <th>249</th>\n",
       "      <th>250</th>\n",
       "      <th>251</th>\n",
       "      <th>252</th>\n",
       "    </tr>\n",
       "  </thead>\n",
       "  <tbody>\n",
       "    <tr>\n",
       "      <th>0</th>\n",
       "      <td>540968</td>\n",
       "      <td>8.0</td>\n",
       "      <td>1537131600</td>\n",
       "      <td>0.0</td>\n",
       "      <td>-31.559971</td>\n",
       "      <td>327.360888</td>\n",
       "      <td>-45.500786</td>\n",
       "      <td>274.753202</td>\n",
       "      <td>-50.918246</td>\n",
       "      <td>253.64821</td>\n",
       "      <td>...</td>\n",
       "      <td>-845.373846</td>\n",
       "      <td>-613.770792</td>\n",
       "      <td>-20.996269</td>\n",
       "      <td>-37.630448</td>\n",
       "      <td>-28.747724</td>\n",
       "      <td>4.167111</td>\n",
       "      <td>7.305572</td>\n",
       "      <td>-12.175933</td>\n",
       "      <td>21.54386</td>\n",
       "      <td>0.0</td>\n",
       "    </tr>\n",
       "    <tr>\n",
       "      <th>1</th>\n",
       "      <td>1454121</td>\n",
       "      <td>4.0</td>\n",
       "      <td>1531688400</td>\n",
       "      <td>0.0</td>\n",
       "      <td>547.270029</td>\n",
       "      <td>238.430888</td>\n",
       "      <td>533.329214</td>\n",
       "      <td>274.803202</td>\n",
       "      <td>527.911754</td>\n",
       "      <td>253.69821</td>\n",
       "      <td>...</td>\n",
       "      <td>-972.373846</td>\n",
       "      <td>-613.770792</td>\n",
       "      <td>-25.996269</td>\n",
       "      <td>-19.630448</td>\n",
       "      <td>-278.747724</td>\n",
       "      <td>-24.832889</td>\n",
       "      <td>-0.694428</td>\n",
       "      <td>-11.175933</td>\n",
       "      <td>-0.45614</td>\n",
       "      <td>0.0</td>\n",
       "    </tr>\n",
       "  </tbody>\n",
       "</table>\n",
       "<p>2 rows × 257 columns</p>\n",
       "</div>"
      ],
      "text/plain": [
       "        id  vas_id    buy_time  target           0           1           2  \\\n",
       "0   540968     8.0  1537131600     0.0  -31.559971  327.360888  -45.500786   \n",
       "1  1454121     4.0  1531688400     0.0  547.270029  238.430888  533.329214   \n",
       "\n",
       "            3           4          5  ...         243         244        245  \\\n",
       "0  274.753202  -50.918246  253.64821  ... -845.373846 -613.770792 -20.996269   \n",
       "1  274.803202  527.911754  253.69821  ... -972.373846 -613.770792 -25.996269   \n",
       "\n",
       "         246         247        248       249        250       251  252  \n",
       "0 -37.630448  -28.747724   4.167111  7.305572 -12.175933  21.54386  0.0  \n",
       "1 -19.630448 -278.747724 -24.832889 -0.694428 -11.175933  -0.45614  0.0  \n",
       "\n",
       "[2 rows x 257 columns]"
      ]
     },
     "execution_count": 10,
     "metadata": {},
     "output_type": "execute_result"
    }
   ],
   "source": [
    "df_train = transform(df_train, df_features_groupby, True)\n",
    "df_train.head(2)"
   ]
  },
  {
   "cell_type": "markdown",
   "metadata": {},
   "source": [
    "Тестовый датасет после объединения с features. Сохранение датасета в файл"
   ]
  },
  {
   "cell_type": "code",
   "execution_count": 11,
   "metadata": {
    "execution": {
     "iopub.execute_input": "2021-07-25T09:34:53.789563Z",
     "iopub.status.busy": "2021-07-25T09:34:53.789255Z",
     "iopub.status.idle": "2021-07-25T09:35:32.642562Z",
     "shell.execute_reply": "2021-07-25T09:35:32.641379Z",
     "shell.execute_reply.started": "2021-07-25T09:34:53.789533Z"
    }
   },
   "outputs": [
    {
     "name": "stdout",
     "output_type": "stream",
     "text": [
      "Размер датасета перед преобразованием: (71231, 4)\n",
      "Размер датасета после преобразования: (71231, 256)\n"
     ]
    },
    {
     "data": {
      "text/html": [
       "<div>\n",
       "<style scoped>\n",
       "    .dataframe tbody tr th:only-of-type {\n",
       "        vertical-align: middle;\n",
       "    }\n",
       "\n",
       "    .dataframe tbody tr th {\n",
       "        vertical-align: top;\n",
       "    }\n",
       "\n",
       "    .dataframe thead th {\n",
       "        text-align: right;\n",
       "    }\n",
       "</style>\n",
       "<table border=\"1\" class=\"dataframe\">\n",
       "  <thead>\n",
       "    <tr style=\"text-align: right;\">\n",
       "      <th></th>\n",
       "      <th>id</th>\n",
       "      <th>vas_id</th>\n",
       "      <th>buy_time</th>\n",
       "      <th>0</th>\n",
       "      <th>1</th>\n",
       "      <th>2</th>\n",
       "      <th>3</th>\n",
       "      <th>4</th>\n",
       "      <th>5</th>\n",
       "      <th>6</th>\n",
       "      <th>...</th>\n",
       "      <th>243</th>\n",
       "      <th>244</th>\n",
       "      <th>245</th>\n",
       "      <th>246</th>\n",
       "      <th>247</th>\n",
       "      <th>248</th>\n",
       "      <th>249</th>\n",
       "      <th>250</th>\n",
       "      <th>251</th>\n",
       "      <th>252</th>\n",
       "    </tr>\n",
       "  </thead>\n",
       "  <tbody>\n",
       "    <tr>\n",
       "      <th>0</th>\n",
       "      <td>3130519</td>\n",
       "      <td>2.0</td>\n",
       "      <td>1548018000</td>\n",
       "      <td>-62.899971</td>\n",
       "      <td>-374.279112</td>\n",
       "      <td>-72.600786</td>\n",
       "      <td>-418.406798</td>\n",
       "      <td>-78.018246</td>\n",
       "      <td>-439.51179</td>\n",
       "      <td>17.81382</td>\n",
       "      <td>...</td>\n",
       "      <td>-970.373846</td>\n",
       "      <td>-613.770792</td>\n",
       "      <td>-25.996269</td>\n",
       "      <td>-37.630448</td>\n",
       "      <td>-258.747724</td>\n",
       "      <td>-25.832889</td>\n",
       "      <td>-0.694428</td>\n",
       "      <td>-12.175933</td>\n",
       "      <td>-0.45614</td>\n",
       "      <td>0.0</td>\n",
       "    </tr>\n",
       "    <tr>\n",
       "      <th>1</th>\n",
       "      <td>2000860</td>\n",
       "      <td>4.0</td>\n",
       "      <td>1548018000</td>\n",
       "      <td>-96.799971</td>\n",
       "      <td>100.290888</td>\n",
       "      <td>-110.740786</td>\n",
       "      <td>140.903202</td>\n",
       "      <td>-116.158246</td>\n",
       "      <td>119.79821</td>\n",
       "      <td>-16.08618</td>\n",
       "      <td>...</td>\n",
       "      <td>-977.373846</td>\n",
       "      <td>-613.770792</td>\n",
       "      <td>-25.996269</td>\n",
       "      <td>-37.630448</td>\n",
       "      <td>-254.747724</td>\n",
       "      <td>-25.832889</td>\n",
       "      <td>-0.694428</td>\n",
       "      <td>-12.175933</td>\n",
       "      <td>-0.45614</td>\n",
       "      <td>0.0</td>\n",
       "    </tr>\n",
       "  </tbody>\n",
       "</table>\n",
       "<p>2 rows × 256 columns</p>\n",
       "</div>"
      ],
      "text/plain": [
       "        id  vas_id    buy_time          0           1           2           3  \\\n",
       "0  3130519     2.0  1548018000 -62.899971 -374.279112  -72.600786 -418.406798   \n",
       "1  2000860     4.0  1548018000 -96.799971  100.290888 -110.740786  140.903202   \n",
       "\n",
       "            4          5         6  ...         243         244        245  \\\n",
       "0  -78.018246 -439.51179  17.81382  ... -970.373846 -613.770792 -25.996269   \n",
       "1 -116.158246  119.79821 -16.08618  ... -977.373846 -613.770792 -25.996269   \n",
       "\n",
       "         246         247        248       249        250      251  252  \n",
       "0 -37.630448 -258.747724 -25.832889 -0.694428 -12.175933 -0.45614  0.0  \n",
       "1 -37.630448 -254.747724 -25.832889 -0.694428 -12.175933 -0.45614  0.0  \n",
       "\n",
       "[2 rows x 256 columns]"
      ]
     },
     "execution_count": 11,
     "metadata": {},
     "output_type": "execute_result"
    }
   ],
   "source": [
    "df_test = transform(df_test, df_features_groupby, False)\n",
    "df_test.to_csv('./data_test.csv')\n",
    "df_test.head(2)"
   ]
  },
  {
   "cell_type": "markdown",
   "metadata": {},
   "source": [
    "## **Работа с признаками**"
   ]
  },
  {
   "cell_type": "code",
   "execution_count": 12,
   "metadata": {
    "execution": {
     "iopub.execute_input": "2021-07-25T09:35:32.644280Z",
     "iopub.status.busy": "2021-07-25T09:35:32.643948Z",
     "iopub.status.idle": "2021-07-25T09:35:32.648679Z",
     "shell.execute_reply": "2021-07-25T09:35:32.647470Z",
     "shell.execute_reply.started": "2021-07-25T09:35:32.644249Z"
    }
   },
   "outputs": [],
   "source": [
    "RANDOM_STATE = 100"
   ]
  },
  {
   "cell_type": "markdown",
   "metadata": {},
   "source": [
    "Функция для подсчёта количества признаков"
   ]
  },
  {
   "cell_type": "code",
   "execution_count": 13,
   "metadata": {
    "execution": {
     "iopub.execute_input": "2021-07-25T09:35:32.650777Z",
     "iopub.status.busy": "2021-07-25T09:35:32.650442Z",
     "iopub.status.idle": "2021-07-25T09:35:32.668190Z",
     "shell.execute_reply": "2021-07-25T09:35:32.666884Z",
     "shell.execute_reply.started": "2021-07-25T09:35:32.650731Z"
    }
   },
   "outputs": [],
   "source": [
    "def get_features(X: pd.DataFrame):\n",
    "    assert isinstance(X, pd.DataFrame)\n",
    "    \n",
    "    X_nunique = X.apply(lambda x: x.nunique(dropna=False))\n",
    "\n",
    "    f_init = set(X_nunique.index.tolist())\n",
    "    f_const = set(X_nunique[X_nunique == 1].index.tolist())\n",
    "    f_numeric = (X.fillna(0).astype(int).sum() - X.fillna(0).sum()).abs()\n",
    "    f_numeric = set(f_numeric[f_numeric > 0].index.tolist())\n",
    "    f_other = f_init - (f_numeric | f_const)\n",
    "    f_binary = set(X.loc[:, f_other].columns[(\n",
    "        (X.loc[:, f_other].max() == 1) & \\\n",
    "        (X.loc[:, f_other].min() == 0) & \\\n",
    "        (X.loc[:, f_other].isnull().sum() == 0)\n",
    "    )])\n",
    "    f_other = f_other - f_binary\n",
    "    f_categorical = set(X_nunique.loc[f_other][X_nunique.loc[f_other] <= 10].index.tolist())\n",
    "    f_other = f_other - f_categorical\n",
    "    f_numeric = f_numeric | f_other\n",
    "    f_all = f_binary | f_categorical | f_numeric\n",
    "\n",
    "    print('Всего признаков:', len(f_init))\n",
    "    print('Константные признаки:', len(f_const))\n",
    "    print('Бинарные признаки:', len(f_binary))\n",
    "    print('Категориальные признаки:', len(f_categorical))\n",
    "    print('Вещественные признаки:', len(f_numeric))\n",
    "    \n",
    "    assert(len(f_init) == len(f_const) + len(f_binary) + len(f_numeric) + len(f_categorical))\n",
    "\n",
    "    return list(f_binary), list(f_categorical), list(f_numeric), list(f_all)"
   ]
  },
  {
   "cell_type": "markdown",
   "metadata": {},
   "source": [
    "Разбиение датасета на test/train. Вывод количества признаков"
   ]
  },
  {
   "cell_type": "code",
   "execution_count": 14,
   "metadata": {
    "execution": {
     "iopub.execute_input": "2021-07-25T09:35:32.671893Z",
     "iopub.status.busy": "2021-07-25T09:35:32.671575Z",
     "iopub.status.idle": "2021-07-25T09:35:43.384227Z",
     "shell.execute_reply": "2021-07-25T09:35:43.383263Z",
     "shell.execute_reply.started": "2021-07-25T09:35:32.671864Z"
    }
   },
   "outputs": [
    {
     "name": "stdout",
     "output_type": "stream",
     "text": [
      "Всего признаков: 255\n",
      "Константные признаки: 5\n",
      "Бинарные признаки: 0\n",
      "Категориальные признаки: 1\n",
      "Вещественные признаки: 249\n"
     ]
    }
   ],
   "source": [
    "X = df_train.drop(['id', 'target'], axis=1)\n",
    "y = df_train['target']\n",
    "\n",
    "X_train, X_test, y_train, y_test = train_test_split(\n",
    "    X,\n",
    "    y,\n",
    "    test_size=0.25,\n",
    "    random_state=100,\n",
    "    shuffle=True,\n",
    "    stratify=y,\n",
    ")\n",
    "\n",
    "f_binary, f_categorical, f_numeric, f_all = get_features(X_train)\n",
    "del df_train, X, y"
   ]
  },
  {
   "cell_type": "markdown",
   "metadata": {},
   "source": [
    "## **Подбор модели. Построение пайплайна**"
   ]
  },
  {
   "cell_type": "markdown",
   "metadata": {},
   "source": [
    "Проверяются три различные модели:  логистическая регрессия, SGD классификатор и градиентный бустинг"
   ]
  },
  {
   "cell_type": "markdown",
   "metadata": {},
   "source": [
    "Функция для расчёта метрик"
   ]
  },
  {
   "cell_type": "code",
   "execution_count": 15,
   "metadata": {
    "execution": {
     "iopub.execute_input": "2021-07-25T09:35:43.385838Z",
     "iopub.status.busy": "2021-07-25T09:35:43.385535Z",
     "iopub.status.idle": "2021-07-25T09:35:43.390760Z",
     "shell.execute_reply": "2021-07-25T09:35:43.389827Z",
     "shell.execute_reply.started": "2021-07-25T09:35:43.385809Z"
    }
   },
   "outputs": [],
   "source": [
    "def evaluate_model(model, X_test, y_test):\n",
    "    y_test_pred = model.predict_proba(X_test)[:,1]\n",
    "    plot_confusion_matrix(model, X_test, y_test)\n",
    "    print(f'{classification_report(y_test, y_test_pred > 0.5)}\\n\\n')"
   ]
  },
  {
   "cell_type": "markdown",
   "metadata": {},
   "source": [
    "Класс для выбора колонки"
   ]
  },
  {
   "cell_type": "code",
   "execution_count": 16,
   "metadata": {
    "execution": {
     "iopub.execute_input": "2021-07-25T09:35:43.392576Z",
     "iopub.status.busy": "2021-07-25T09:35:43.392224Z",
     "iopub.status.idle": "2021-07-25T09:35:43.411098Z",
     "shell.execute_reply": "2021-07-25T09:35:43.409913Z",
     "shell.execute_reply.started": "2021-07-25T09:35:43.392546Z"
    }
   },
   "outputs": [],
   "source": [
    "class FeatureSelector(BaseEstimator, TransformerMixin):\n",
    "    def __init__(self, columns):\n",
    "        self.columns = columns\n",
    "\n",
    "    def fit(self, X, y=None):\n",
    "        assert isinstance(X, pd.DataFrame)\n",
    "        \n",
    "        return self\n",
    "\n",
    "    def transform(self, X):\n",
    "        assert isinstance(X, pd.DataFrame)\n",
    "\n",
    "        try:\n",
    "            return X[self.columns]\n",
    "        except KeyError:\n",
    "            cols_error = list(set(self.columns) - set(X.columns))\n",
    "            raise KeyError(\"Датасет не содержит следующие колонки: %s\" % cols_error)"
   ]
  },
  {
   "cell_type": "markdown",
   "metadata": {},
   "source": [
    "Построение пайплайна"
   ]
  },
  {
   "cell_type": "code",
   "execution_count": 18,
   "metadata": {
    "execution": {
     "iopub.execute_input": "2021-07-25T09:35:43.412877Z",
     "iopub.status.busy": "2021-07-25T09:35:43.412465Z",
     "iopub.status.idle": "2021-07-25T10:39:01.862489Z",
     "shell.execute_reply": "2021-07-25T10:39:01.861127Z",
     "shell.execute_reply.started": "2021-07-25T09:35:43.412836Z"
    }
   },
   "outputs": [
    {
     "name": "stdout",
     "output_type": "stream",
     "text": [
      "LogisticRegression\n",
      "              precision    recall  f1-score   support\n",
      "\n",
      "         0.0       0.93      1.00      0.96    184026\n",
      "         1.0       0.29      0.00      0.00     14425\n",
      "\n",
      "    accuracy                           0.93    198451\n",
      "   macro avg       0.61      0.50      0.48    198451\n",
      "weighted avg       0.88      0.93      0.89    198451\n",
      "\n",
      "\n",
      "\n",
      "SGDClassifier\n",
      "              precision    recall  f1-score   support\n",
      "\n",
      "         0.0       0.93      1.00      0.96    184026\n",
      "         1.0       0.38      0.01      0.02     14425\n",
      "\n",
      "    accuracy                           0.93    198451\n",
      "   macro avg       0.65      0.51      0.49    198451\n",
      "weighted avg       0.89      0.93      0.89    198451\n",
      "\n",
      "\n",
      "\n",
      "GradientBoostingClassifier\n",
      "              precision    recall  f1-score   support\n",
      "\n",
      "         0.0       0.95      0.99      0.97    184026\n",
      "         1.0       0.67      0.27      0.38     14425\n",
      "\n",
      "    accuracy                           0.94    198451\n",
      "   macro avg       0.81      0.63      0.68    198451\n",
      "weighted avg       0.93      0.94      0.92    198451\n",
      "\n",
      "\n",
      "\n"
     ]
    },
    {
     "data": {
      "image/png": "[encoded data removed]",
      "text/plain": [
       "<Figure size 432x288 with 2 Axes>"
      ]
     },
     "metadata": {
      "needs_background": "light"
     },
     "output_type": "display_data"
    },
    {
     "data": {
      "image/png": "[encoded data removed]",
      "text/plain": [
       "<Figure size 432x288 with 2 Axes>"
      ]
     },
     "metadata": {
      "needs_background": "light"
     },
     "output_type": "display_data"
    },
    {
     "data": {
      "image/png": "[encoded data removed]",
      "text/plain": [
       "<Figure size 432x288 with 2 Axes>"
      ]
     },
     "metadata": {
      "needs_background": "light"
     },
     "output_type": "display_data"
    }
   ],
   "source": [
    "# Пайплайн предобработки данных\n",
    "# Вещественные признаки масштабируются\n",
    "# Для категориальных используем OneHot преобразование\n",
    "train_pipeline = make_pipeline(\n",
    "    FeatureSelector(columns=f_all),\n",
    "    FeatureUnion(transformer_list=[\n",
    "        (\"numeric_features\", make_pipeline(\n",
    "            FeatureSelector(columns=f_numeric),\n",
    "            StandardScaler()\n",
    "        )),\n",
    "        (\"categorical_features\", make_pipeline(\n",
    "            FeatureSelector(columns=f_categorical),\n",
    "            OneHotEncoder(handle_unknown='ignore')\n",
    "        ))\n",
    "    ]),\n",
    "    SelectFromModel(LogisticRegression(random_state=RANDOM_STATE, solver='liblinear')),\n",
    ")\n",
    "# Словарь с моделями и их гиперпараметрами\n",
    "models = {\n",
    "    0: {\n",
    "        'name': 'LogisticRegression',\n",
    "        'estimator': LogisticRegression(\n",
    "            random_state=RANDOM_STATE,\n",
    "            solver='liblinear',\n",
    "        ),\n",
    "    },\n",
    "    1: {\n",
    "        'name': 'SGDClassifier',\n",
    "        'estimator': SGDClassifier(\n",
    "            random_state=RANDOM_STATE,\n",
    "            loss='log',\n",
    "        ),\n",
    "    },\n",
    "    2: {\n",
    "        'name': 'GradientBoostingClassifier',\n",
    "        'estimator': GradientBoostingClassifier(\n",
    "            random_state=RANDOM_STATE,\n",
    "        )\n",
    "    },\n",
    "}\n",
    "# Обучение моделей\n",
    "for key,value in models.items():\n",
    "    \n",
    "    print(f'{models[key][\"name\"]}')\n",
    "    model = make_pipeline(\n",
    "        train_pipeline,\n",
    "        models[key][\"estimator\"],\n",
    "    )\n",
    "    model.fit(X_train, y_train)\n",
    "    \n",
    "    evaluate_model(model, X_test, y_test)"
   ]
  },
  {
   "cell_type": "markdown",
   "metadata": {},
   "source": [
    "Наиболее высокую метрику f1-score показывает модель градиентного бустинга, поэтому далее будем использовать её"
   ]
  },
  {
   "cell_type": "markdown",
   "metadata": {},
   "source": [
    "## **Построение окончательной модели**"
   ]
  },
  {
   "cell_type": "markdown",
   "metadata": {},
   "source": [
    "Построение пайплайна на основе модели градиентрого бустинга"
   ]
  },
  {
   "cell_type": "code",
   "execution_count": 19,
   "metadata": {
    "execution": {
     "iopub.execute_input": "2021-07-25T10:39:01.864655Z",
     "iopub.status.busy": "2021-07-25T10:39:01.864315Z",
     "iopub.status.idle": "2021-07-25T11:59:29.031471Z",
     "shell.execute_reply": "2021-07-25T11:59:29.030311Z",
     "shell.execute_reply.started": "2021-07-25T10:39:01.864623Z"
    }
   },
   "outputs": [
    {
     "data": {
      "text/plain": [
       "Pipeline(steps=[('pipeline',\n",
       "                 Pipeline(steps=[('featureselector',\n",
       "                                  FeatureSelector(columns=['95', '159', '47',\n",
       "                                                           '166', '247', '181',\n",
       "                                                           '46', '154', '61',\n",
       "                                                           '192', '245', '191',\n",
       "                                                           '201', '131', '92',\n",
       "                                                           '233', '178', '235',\n",
       "                                                           '112', '210', '135',\n",
       "                                                           '77', '132', '242',\n",
       "                                                           '169', '60', '195',\n",
       "                                                           '50', '7', '194', ...])),\n",
       "                                 ('featureunion',\n",
       "                                  FeatureUnion(transformer_list=[('numeric_features',\n",
       "                                                                  Pipeline(steps=[('...\n",
       "                                                                  Pipeline(steps=[('featureselector',\n",
       "                                                                                   FeatureSelector(columns=['vas_id'])),\n",
       "                                                                                  ('onehotencoder',\n",
       "                                                                                   OneHotEncoder(handle_unknown='ignore'))]))])),\n",
       "                                 ('selectfrommodel',\n",
       "                                  SelectFromModel(estimator=LogisticRegression(random_state=100,\n",
       "                                                                               solver='liblinear')))])),\n",
       "                ('gradientboostingclassifier',\n",
       "                 GradientBoostingClassifier(learning_rate=0.3, max_depth=8,\n",
       "                                            n_estimators=300,\n",
       "                                            random_state=100))])"
      ]
     },
     "execution_count": 19,
     "metadata": {},
     "output_type": "execute_result"
    }
   ],
   "source": [
    "final_model = make_pipeline(\n",
    "    train_pipeline,\n",
    "    GradientBoostingClassifier(\n",
    "        random_state=RANDOM_STATE,\n",
    "        learning_rate=0.3,\n",
    "        n_estimators=300,\n",
    "        min_samples_split=2,\n",
    "        max_depth=8,\n",
    "    )\n",
    ")\n",
    "\n",
    "final_model.fit(X_train, y_train)"
   ]
  },
  {
   "cell_type": "markdown",
   "metadata": {},
   "source": [
    "## **Результаты работы окончательной модели**"
   ]
  },
  {
   "cell_type": "markdown",
   "metadata": {},
   "source": [
    "Расчёт метрик"
   ]
  },
  {
   "cell_type": "code",
   "execution_count": 20,
   "metadata": {
    "execution": {
     "iopub.execute_input": "2021-07-25T11:59:29.033485Z",
     "iopub.status.busy": "2021-07-25T11:59:29.033180Z",
     "iopub.status.idle": "2021-07-25T11:59:39.568196Z",
     "shell.execute_reply": "2021-07-25T11:59:39.567245Z",
     "shell.execute_reply.started": "2021-07-25T11:59:29.033457Z"
    }
   },
   "outputs": [
    {
     "name": "stdout",
     "output_type": "stream",
     "text": [
      "              precision    recall  f1-score   support\n",
      "\n",
      "         0.0       0.95      0.97      0.96    184026\n",
      "         1.0       0.51      0.34      0.41     14425\n",
      "\n",
      "    accuracy                           0.93    198451\n",
      "   macro avg       0.73      0.66      0.69    198451\n",
      "weighted avg       0.92      0.93      0.92    198451\n",
      "\n",
      "\n",
      "\n"
     ]
    },
    {
     "data": {
      "image/png": "[encoded data removed]",
      "text/plain": [
       "<Figure size 432x288 with 2 Axes>"
      ]
     },
     "metadata": {
      "needs_background": "light"
     },
     "output_type": "display_data"
    }
   ],
   "source": [
    "evaluate_model(final_model, X_test, y_test)"
   ]
  },
  {
   "cell_type": "markdown",
   "metadata": {},
   "source": [
    "Построение матрицы ошибок"
   ]
  },
  {
   "cell_type": "code",
   "execution_count": 21,
   "metadata": {
    "execution": {
     "iopub.execute_input": "2021-07-25T11:59:39.569851Z",
     "iopub.status.busy": "2021-07-25T11:59:39.569570Z",
     "iopub.status.idle": "2021-07-25T11:59:48.995836Z",
     "shell.execute_reply": "2021-07-25T11:59:48.994764Z",
     "shell.execute_reply.started": "2021-07-25T11:59:39.569824Z"
    }
   },
   "outputs": [
    {
     "data": {
      "image/png": "[encoded data removed]",
      "text/plain": [
       "<Figure size 432x288 with 2 Axes>"
      ]
     },
     "metadata": {
      "needs_background": "light"
     },
     "output_type": "display_data"
    }
   ],
   "source": [
    "plot_confusion_matrix(final_model, X_test, y_test)\n",
    "plt.show()"
   ]
  },
  {
   "cell_type": "markdown",
   "metadata": {},
   "source": [
    "Построение ROC-AUC и PR кривых"
   ]
  },
  {
   "cell_type": "code",
   "execution_count": 22,
   "metadata": {
    "execution": {
     "iopub.execute_input": "2021-07-25T11:59:48.997378Z",
     "iopub.status.busy": "2021-07-25T11:59:48.997092Z",
     "iopub.status.idle": "2021-07-25T11:59:58.430261Z",
     "shell.execute_reply": "2021-07-25T11:59:58.429154Z",
     "shell.execute_reply.started": "2021-07-25T11:59:48.997351Z"
    }
   },
   "outputs": [
    {
     "name": "stdout",
     "output_type": "stream",
     "text": [
      "AUC_PR = 0.436\n",
      "AUC_ROC = 0.917\n"
     ]
    },
    {
     "data": {
      "image/png": "[encoded data removed]",
      "text/plain": [
       "<Figure size 864x1728 with 2 Axes>"
      ]
     },
     "metadata": {
      "needs_background": "light"
     },
     "output_type": "display_data"
    }
   ],
   "source": [
    "f, (ax1, ax2) = plt.subplots(1, 2, sharey=True)\n",
    "\n",
    "f.set_figheight(24)\n",
    "f.set_figwidth(12)\n",
    "\n",
    "ax1 = plt.subplot(211)\n",
    "ax1.set_title('ROC')\n",
    "ax1.set_xlabel('TPR')\n",
    "ax1.set_ylabel('FPR')\n",
    "\n",
    "ax2 = plt.subplot(212)\n",
    "ax2.set_title('PR')\n",
    "ax2.set_xlabel('Recall')\n",
    "ax2.set_ylabel('Precision')\n",
    "\n",
    "ax1.plot([0, 1], [0, 1], 'k--')\n",
    "\n",
    "y_test_pred = final_model.predict_proba(X_test)[:,1]\n",
    "\n",
    "fpr, tpr, roc_thresholds = roc_curve(y_test, y_test_pred)\n",
    "precision, recall, pr_thresholds = precision_recall_curve(y_test, y_test_pred)\n",
    "ax1.plot(fpr, tpr, label='Baseline', color='b')\n",
    "ax2.plot(recall, precision, label='Baseline', color='b')\n",
    "print(\"AUC_PR = %.3f\" % auc(recall, precision))\n",
    "print(\"AUC_ROC = %.3f\" % auc(fpr, tpr))"
   ]
  },
  {
   "cell_type": "markdown",
   "metadata": {},
   "source": [
    "## **Сохранение окончательной модели**"
   ]
  },
  {
   "cell_type": "code",
   "execution_count": 23,
   "metadata": {
    "execution": {
     "iopub.execute_input": "2021-07-25T11:59:58.431994Z",
     "iopub.status.busy": "2021-07-25T11:59:58.431674Z",
     "iopub.status.idle": "2021-07-25T11:59:58.575736Z",
     "shell.execute_reply": "2021-07-25T11:59:58.574785Z",
     "shell.execute_reply.started": "2021-07-25T11:59:58.431966Z"
    }
   },
   "outputs": [],
   "source": [
    "with open('model.dill', 'wb') as file:\n",
    "    dill.dump(final_model, file)"
   ]
  }
 ],
 "metadata": {
  "kernelspec": {
   "display_name": "Python 3 (ipykernel)",
   "language": "python",
   "name": "python3"
  },
  "language_info": {
   "codemirror_mode": {
    "name": "ipython",
    "version": 3
   },
   "file_extension": ".py",
   "mimetype": "text/x-python",
   "name": "python",
   "nbconvert_exporter": "python",
   "pygments_lexer": "ipython3",
   "version": "3.9.7"
  }
 },
 "nbformat": 4,
 "nbformat_minor": 4
}
